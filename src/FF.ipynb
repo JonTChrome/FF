{
 "cells": [
  {
   "cell_type": "code",
   "execution_count": 1,
   "metadata": {},
   "outputs": [],
   "source": [
    "try:\n",
    "    db_file = open('..\\\\DB\\\\ff.db')\n",
    "except FileNotFoundError:\n",
    "    db_file = open('..\\\\DB\\\\ff.db', 'w+')\n",
    "    db_file.close()"
   ]
  },
  {
   "cell_type": "code",
   "execution_count": 6,
   "metadata": {},
   "outputs": [],
   "source": [
    "##startup\n",
    "## Connect to the Database\n",
    "from sqlalchemy import Column, Integer, String, Date, ForeignKey, Boolean, Float\n",
    "import sys\n",
    "sys.path.append('..\\\\')\n",
    "import DB.Schema as schema\n",
    "from DB.Schema import Team, Player, Injury, Quarterback, RunningBack, WideReceiver, TightEnd, Kicker, Defense\n",
    "import sqlalchemy as db\n",
    "from sqlalchemy.ext.declarative import declarative_base\n",
    "from sqlalchemy.orm import relation, sessionmaker\n",
    "from sqlalchemy.orm import sessionmaker\n",
    "\n",
    "engine = db.create_engine('sqlite:///..\\\\DB\\\\ff.db')\n",
    "connection = engine.connect()\n",
    "Base = schema.getBase()\n",
    "\n",
    "Session = sessionmaker(bind=engine, autoflush=False)\n",
    "Session.configure(bind=engine, autoflush=False)\n",
    "session = Session()\n",
    "\n",
    "##commit changes\n",
    "\n",
    "Base.metadata.create_all(engine)"
   ]
  },
  {
   "cell_type": "code",
   "execution_count": 3,
   "metadata": {},
   "outputs": [],
   "source": [
    "##Clear teams DB\n",
    "# for team in session.query(Team).all():\n",
    "#     session.delete(team)\n",
    "# session.commit()"
   ]
  },
  {
   "cell_type": "code",
   "execution_count": 7,
   "metadata": {},
   "outputs": [
    {
     "name": "stdout",
     "output_type": "stream",
     "text": [
      "teams added:  32\n"
     ]
    }
   ],
   "source": [
    "teams_added = 0\n",
    "if session.query(Team).filter(Team.name == 'WAS').one_or_none() is None:\n",
    "    team = Team(home = 'Washington', name = 'WAS', first_name='Washington', last_name = 'Redskins')\n",
    "    session.add(team)\n",
    "    teams_added += 1\n",
    "if session.query(Team).filter(Team.name == 'ARI').one_or_none() is None:\n",
    "    team = Team(home = 'Arizona', name = 'ARI', first_name='Arizona', last_name = 'ARI')\n",
    "    session.add(team)\n",
    "    teams_added += 1\n",
    "if session.query(Team).filter(Team.name == 'ATL').one_or_none() is None:\n",
    "    team = Team(home = 'Atlanta', name = 'ATL', first_name='Atlanta', last_name = 'Falcons')\n",
    "    session.add(team)\n",
    "    teams_added += 1\n",
    "if session.query(Team).filter(Team.name == 'TEN').one_or_none() is None:\n",
    "    team = Team(home = 'Tennessee', name = 'TEN', first_name='Tennessee', last_name = 'Titans')\n",
    "    session.add(team)\n",
    "    teams_added += 1\n",
    "if session.query(Team).filter(Team.name == 'LAR').one_or_none() is None:\n",
    "    team = Team(home = 'Los Angeles', name = 'LAR', first_name='Los Angeles', last_name = 'Rams')\n",
    "    session.add(team)\n",
    "    teams_added += 1\n",
    "if session.query(Team).filter(Team.name == 'PIT').one_or_none() is None:\n",
    "    team = Team(home = 'Pittsburgh', name = 'PIT', first_name='Pittsburgh', last_name = 'Steelers')\n",
    "    session.add(team)\n",
    "    teams_added += 1\n",
    "if session.query(Team).filter(Team.name == 'NE').one_or_none() is None:\n",
    "    team = Team(home = 'New England', name = 'NE', first_name='New England', last_name = 'Patriots')\n",
    "    session.add(team)\n",
    "    teams_added += 1\n",
    "if session.query(Team).filter(Team.name == 'CLE').one_or_none() is None:\n",
    "    team = Team(home = 'Cleveland', name = 'CLE', first_name='Cleveland', last_name = 'Browns')\n",
    "    session.add(team)\n",
    "    teams_added += 1\n",
    "if session.query(Team).filter(Team.name == 'SEA').one_or_none() is None:\n",
    "    team = Team(home = 'Seattle', name = 'SEA', first_name='Seattle', last_name = 'Seahawks')\n",
    "    session.add(team)\n",
    "    teams_added += 1\n",
    "if session.query(Team).filter(Team.name == 'HOU').one_or_none() is None:\n",
    "    team = Team(home = 'Houston', name = 'HOU', first_name='Houston', last_name = 'Texans')\n",
    "    session.add(team)\n",
    "    teams_added += 1\n",
    "if session.query(Team).filter(Team.name == 'OAK').one_or_none() is None:\n",
    "    team = Team(home = 'Oakland', name = 'OAK', first_name='Oakland', last_name = 'Raiders')\n",
    "    session.add(team)\n",
    "    teams_added += 1\n",
    "if session.query(Team).filter(Team.name == 'LAC').one_or_none() is None:\n",
    "    team = Team(home = 'Los Angeles', name = 'LAC', first_name='Los Angeles', last_name = 'Chargers')\n",
    "    session.add(team)\n",
    "    teams_added += 1\n",
    "if session.query(Team).filter(Team.name == 'BAL').one_or_none() is None:\n",
    "    team = Team(home = 'Baltimore', name = 'BAL', first_name='Baltimore', last_name = 'Ravens')\n",
    "    session.add(team)\n",
    "    teams_added += 1\n",
    "if session.query(Team).filter(Team.name == 'PHI').one_or_none() is None:\n",
    "    team = Team(home = 'Philadelphia', name = 'PHI', first_name='Philadelphia', last_name = 'Eagles')\n",
    "    session.add(team)\n",
    "    teams_added += 1\n",
    "if session.query(Team).filter(Team.name == 'JAX').one_or_none() is None:\n",
    "    team = Team(home = 'Jacksonville', name = 'JAX', first_name='Jacksonville', last_name = 'Jaguars')\n",
    "    session.add(team)\n",
    "    teams_added += 1\n",
    "if session.query(Team).filter(Team.name == 'NYG').one_or_none() is None:\n",
    "    team = Team(home = 'New York', name = 'NYG', first_name='New York', last_name = 'Giants')\n",
    "    session.add(team)\n",
    "    teams_added += 1\n",
    "if session.query(Team).filter(Team.name == 'IND').one_or_none() is None:\n",
    "    team = Team(home = 'Indianapolis', name = 'IND', first_name='Indianapolis', last_name = 'Colts')\n",
    "    session.add(team)\n",
    "    teams_added += 1\n",
    "if session.query(Team).filter(Team.name == 'NYJ').one_or_none() is None:\n",
    "    team = Team(home = 'New York', name = 'NYJ', first_name='New York', last_name = 'Jets')\n",
    "    session.add(team)\n",
    "    teams_added += 1\n",
    "if session.query(Team).filter(Team.name == 'CIN').one_or_none() is None:\n",
    "    team = Team(home = 'Cincinnati', name = 'CIN', first_name='Cincinnati', last_name = 'Bengals')\n",
    "    session.add(team)\n",
    "    teams_added += 1\n",
    "if session.query(Team).filter(Team.name == 'MIA').one_or_none() is None:\n",
    "    team = Team(home = 'Miami', name = 'MIA', first_name='Miami', last_name = 'Dolphins')\n",
    "    session.add(team)\n",
    "    teams_added += 1\n",
    "if session.query(Team).filter(Team.name == 'CAR').one_or_none() is None:\n",
    "    team = Team(home = 'Carolina', name = 'CAR', first_name='Carolina', last_name = 'Panthers')\n",
    "    session.add(team)\n",
    "    teams_added += 1\n",
    "if session.query(Team).filter(Team.name == 'NO').one_or_none() is None:\n",
    "    team = Team(home = 'New Orleans', name = 'NO', first_name='New Orleans', last_name = 'Saints')\n",
    "    session.add(team)\n",
    "    teams_added += 1\n",
    "if session.query(Team).filter(Team.name == 'SF').one_or_none() is None:\n",
    "    team = Team(home = 'San Francisco', name = 'SF', first_name='San Francisco', last_name = '49ers')\n",
    "    session.add(team)\n",
    "    teams_added += 1\n",
    "if session.query(Team).filter(Team.name == 'DAL').one_or_none() is None:\n",
    "    team = Team(home = 'Dallas', name = 'DAL', first_name='Dallas', last_name = 'Cowboys')\n",
    "    session.add(team)\n",
    "    teams_added += 1\n",
    "if session.query(Team).filter(Team.name == 'DEN').one_or_none() is None:\n",
    "    team = Team(home = 'Denver', name = 'DEN', first_name='Denver', last_name = 'Broncos')\n",
    "    session.add(team)\n",
    "    teams_added += 1\n",
    "if session.query(Team).filter(Team.name == 'TB').one_or_none() is None:\n",
    "    team = Team(home = 'Tampa Bay', name = 'TB', first_name='Tampa Bay', last_name = 'Buccaneers')\n",
    "    session.add(team)\n",
    "    teams_added += 1\n",
    "if session.query(Team).filter(Team.name == 'BUF').one_or_none() is None:\n",
    "    team = Team(home = 'Buffalo', name = 'BUF', first_name='Buffalo', last_name = 'Bills')\n",
    "    session.add(team)\n",
    "    teams_added += 1\n",
    "if session.query(Team).filter(Team.name == 'KC').one_or_none() is None:\n",
    "    team = Team(home = 'Kansas City', name = 'KC', first_name='Kansas City', last_name = 'Chiefs')\n",
    "    session.add(team)\n",
    "    teams_added += 1\n",
    "if session.query(Team).filter(Team.name == 'DET').one_or_none() is None:\n",
    "    team = Team(home = 'Detroit', name = 'DET', first_name='Detroit', last_name = 'Lions')\n",
    "    session.add(team)\n",
    "    teams_added += 1\n",
    "if session.query(Team).filter(Team.name == 'GB').one_or_none() is None:\n",
    "    team = Team(home = 'Green Bay', name = 'GB', first_name='Green Bay', last_name = 'Packers')\n",
    "    session.add(team)\n",
    "    teams_added += 1\n",
    "if session.query(Team).filter(Team.name == 'CHI').one_or_none() is None:\n",
    "    team = Team(home = 'Chicago', name = 'CHI', first_name='Chicago', last_name = 'Bears')\n",
    "    session.add(team)\n",
    "    teams_added += 1\n",
    "if session.query(Team).filter(Team.name == 'MIN').one_or_none() is None:\n",
    "    team = Team(home = 'Minnesota', name = 'MIN', first_name='Minnesota', last_name = 'Vikings')\n",
    "    session.add(team)\n",
    "    teams_added += 1\n",
    "print(\"teams added: \", teams_added)\n",
    "session.commit()"
   ]
  },
  {
   "cell_type": "code",
   "execution_count": 7,
   "metadata": {},
   "outputs": [],
   "source": [
    "#Clear Players\n",
    "# for player in session.query(Player).all():\n",
    "#     session.delete(player)\n",
    "# session.commit()"
   ]
  },
  {
   "cell_type": "code",
   "execution_count": 8,
   "metadata": {},
   "outputs": [
    {
     "name": "stdout",
     "output_type": "stream",
     "text": [
      "new players added:  6241\n"
     ]
    }
   ],
   "source": [
    "import requests\n",
    "players_url = \"https://api.sleeper.app/v1/players/nfl\"\n",
    "r_players = requests.get(url = players_url)\n",
    "players_data = r_players.json() \n",
    "##update new players\n",
    "players_added = 0\n",
    "for k in players_data:\n",
    "    if session.query(Player).filter(Player.player_id == k).one_or_none() is None:\n",
    "        new_player = Player(players_data[k])\n",
    "        team = session.query(Team).filter(Team.name == players_data[k]['team']).one_or_none() \n",
    "        if team is not None:\n",
    "            new_player.team_id = team.id\n",
    "        \n",
    "        players_added += 1\n",
    "        session.add(new_player)\n",
    "print(\"new players added: \", players_added)\n",
    "session.commit()"
   ]
  },
  {
   "cell_type": "code",
   "execution_count": 9,
   "metadata": {},
   "outputs": [],
   "source": [
    "SUPPORTED_SEASONS = [2017, 2018]\n",
    "SUPPORTED_WEEKS = [1,2,3,4,5,6,7,8,9,10,11,12,13,14,15,16,17]"
   ]
  },
  {
   "cell_type": "code",
   "execution_count": 10,
   "metadata": {},
   "outputs": [],
   "source": [
    "def updateStats(season, week):\n",
    "    ## Populate week of stats\n",
    "    stats_url = \"https://api.sleeper.app/v1/stats/nfl/regular/\" + str(season) + \"/\" + str(week)\n",
    "    r_stats = requests.get(url = stats_url)\n",
    "    stats_data = r_stats.json()\n",
    "    if season not in SUPPORTED_SEASONS:\n",
    "        return\n",
    "    if week not in SUPPORTED_WEEKS:\n",
    "        return\n",
    "    \n",
    "    records_added = 0\n",
    "\n",
    "    for record in stats_data:\n",
    "        player = session.query(Player).filter(Player.player_id == record).one_or_none()\n",
    "        if player is not None:\n",
    "            if player.position == 'QB':\n",
    "                if session.query(Quarterback).filter(Quarterback.player_id == record, Quarterback.week == week, Quarterback.season == season).one_or_none() is None:\n",
    "                    qb = Quarterback(stats_data[record])\n",
    "                    qb.player_id = player.player_id\n",
    "                    qb.player_id_local = player.id\n",
    "                    qb.week = week\n",
    "                    qb.season = season\n",
    "                    session.add(qb)\n",
    "                    records_added += 1\n",
    "            elif player.position == 'WR':\n",
    "                if session.query(WideReceiver).filter(WideReceiver.player_id == record, WideReceiver.week == week, WideReceiver.season == season).one_or_none() is None:\n",
    "                    wr = WideReceiver(stats_data[record])\n",
    "                    wr.player_id = player.player_id\n",
    "                    wr.player_id_local = player.id\n",
    "                    wr.week = week\n",
    "                    wr.season = season\n",
    "                    session.add(wr)\n",
    "                    records_added += 1\n",
    "            elif player.position == 'RB':\n",
    "                if session.query(RunningBack).filter(RunningBack.player_id == record, RunningBack.week == week, RunningBack.season == season).one_or_none() is None:\n",
    "                    rb = RunningBack(stats_data[record])\n",
    "                    rb.player_id = player.player_id\n",
    "                    rb.player_id_local = player.id\n",
    "                    rb.week = week\n",
    "                    rb.season = season\n",
    "                    session.add(rb)\n",
    "                    records_added += 1\n",
    "            elif player.position == 'TE':\n",
    "                if session.query(TightEnd).filter(TightEnd.player_id == record, TightEnd.week == week, TightEnd.season == season).one_or_none() is None:\n",
    "                    te = TightEnd(stats_data[record])\n",
    "                    te.player_id = player.player_id\n",
    "                    te.player_id_local = player.id\n",
    "                    te.week = week\n",
    "                    te.season = season\n",
    "                    session.add(te)\n",
    "                    records_added += 1\n",
    "            elif player.position == 'DEF':\n",
    "                if session.query(Defense).filter(Defense.player_id == record, Defense.week == week, Defense.season == season).one_or_none() is None:\n",
    "                    d = Defense(stats_data[record])\n",
    "                    d.player_id = player.player_id\n",
    "                    d.player_id_local = player.id\n",
    "                    d.week = week\n",
    "                    d.season = season\n",
    "                    session.add(d)\n",
    "                    records_added += 1\n",
    "            elif player.position == 'K':\n",
    "                if session.query(Quarterback).filter(Quarterback.player_id == record, Quarterback.week == week, Quarterback.season == season).one_or_none() is None:\n",
    "                    k = Kicker(stats_data[record])\n",
    "                    k.player_id = player.player_id\n",
    "                    k.player_id_local = player.id\n",
    "                    k.week = week\n",
    "                    k.season = season\n",
    "                    session.add(k)\n",
    "                    records_added += 1\n",
    "\n",
    "    print(\"Week: \", week, \"Season: \", season)\n",
    "    print(\"new stats records added: \", records_added)\n",
    "    session.commit()"
   ]
  },
  {
   "cell_type": "code",
   "execution_count": 11,
   "metadata": {},
   "outputs": [],
   "source": [
    "import requests\n",
    "def populateSeason(season):\n",
    "    for i in range(1,18):\n",
    "        updateStats(season, i)\n",
    "        "
   ]
  },
  {
   "cell_type": "code",
   "execution_count": 13,
   "metadata": {},
   "outputs": [
    {
     "name": "stdout",
     "output_type": "stream",
     "text": [
      "Week:  1 Season:  2018\n",
      "new stats records added:  506\n",
      "Week:  2 Season:  2018\n",
      "new stats records added:  512\n",
      "Week:  3 Season:  2018\n",
      "new stats records added:  496\n",
      "Week:  4 Season:  2018\n",
      "new stats records added:  466\n",
      "Week:  5 Season:  2018\n",
      "new stats records added:  475\n",
      "Week:  6 Season:  2018\n",
      "new stats records added:  479\n",
      "Week:  7 Season:  2018\n",
      "new stats records added:  436\n",
      "Week:  8 Season:  2018\n",
      "new stats records added:  500\n",
      "Week:  9 Season:  2018\n",
      "new stats records added:  460\n",
      "Week:  10 Season:  2018\n",
      "new stats records added:  498\n",
      "Week:  11 Season:  2018\n",
      "new stats records added:  465\n",
      "Week:  12 Season:  2018\n",
      "new stats records added:  554\n",
      "Week:  13 Season:  2018\n",
      "new stats records added:  588\n",
      "Week:  14 Season:  2018\n",
      "new stats records added:  586\n",
      "Week:  15 Season:  2018\n",
      "new stats records added:  589\n",
      "Week:  16 Season:  2018\n",
      "new stats records added:  589\n",
      "Week:  17 Season:  2018\n",
      "new stats records added:  598\n"
     ]
    }
   ],
   "source": [
    "populateSeason(2017)\n",
    "populateSeason(2018)"
   ]
  },
  {
   "cell_type": "code",
   "execution_count": 3,
   "metadata": {},
   "outputs": [],
   "source": []
  },
  {
   "cell_type": "code",
   "execution_count": 22,
   "metadata": {},
   "outputs": [],
   "source": []
  },
  {
   "cell_type": "code",
   "execution_count": 19,
   "metadata": {},
   "outputs": [],
   "source": [
    "session.rollback()"
   ]
  },
  {
   "cell_type": "code",
   "execution_count": 23,
   "metadata": {},
   "outputs": [],
   "source": [
    "session.commit()"
   ]
  },
  {
   "cell_type": "code",
   "execution_count": 4,
   "metadata": {},
   "outputs": [
    {
     "name": "stdout",
     "output_type": "stream",
     "text": [
      "32\n",
      "Washington\n",
      "Arizona\n",
      "Atlanta\n",
      "Tennessee\n",
      "Los Angeles\n",
      "Pittsburgh\n",
      "New England\n",
      "Cleveland\n",
      "Seattle\n",
      "Houston\n",
      "Oakland\n",
      "Los Angeles\n",
      "Baltimore\n",
      "Philadelphia\n",
      "Jacksonville\n",
      "New York\n",
      "Indianapolis\n",
      "New York\n",
      "Cincinnati\n",
      "Miami\n",
      "Carolina\n",
      "New Orleans\n",
      "San Francisco\n",
      "Dallas\n",
      "Denver\n",
      "Tampa Bay\n",
      "Buffalo\n",
      "Kansas City\n",
      "Detroit\n",
      "Green Bay\n",
      "Chicago\n",
      "Minnesota\n"
     ]
    }
   ],
   "source": [
    "teams = session.query(Team).all()\n",
    "print(len(teams))\n",
    "for team in teams:\n",
    "    print(team.first_name)\n"
   ]
  },
  {
   "cell_type": "code",
   "execution_count": 21,
   "metadata": {},
   "outputs": [],
   "source": [
    "## Clear table\n",
    "for team in session.query(Team).all():\n",
    "    session.delete(team)\n",
    "\n",
    "session.commit()"
   ]
  },
  {
   "cell_type": "code",
   "execution_count": null,
   "metadata": {},
   "outputs": [],
   "source": []
  },
  {
   "cell_type": "code",
   "execution_count": null,
   "metadata": {},
   "outputs": [],
   "source": []
  },
  {
   "cell_type": "code",
   "execution_count": 23,
   "metadata": {},
   "outputs": [],
   "source": []
  },
  {
   "cell_type": "code",
   "execution_count": null,
   "metadata": {},
   "outputs": [],
   "source": []
  },
  {
   "cell_type": "code",
   "execution_count": 43,
   "metadata": {},
   "outputs": [],
   "source": [
    "def findTeamId(player, data, teams):\n",
    "    player_team = data[str(player.player_id)]['team']\n",
    "    for team in teams:\n",
    "        if team.name == player_team:\n",
    "            player.team_id = team.id"
   ]
  },
  {
   "cell_type": "code",
   "execution_count": 44,
   "metadata": {},
   "outputs": [],
   "source": [
    "## add foreign keys to players\n",
    "# print(findTeamId(players[0], data, teams))\n",
    "for player in players:\n",
    "    findTeamId(player, data, teams)"
   ]
  },
  {
   "cell_type": "code",
   "execution_count": 46,
   "metadata": {},
   "outputs": [],
   "source": [
    "session.commit()"
   ]
  },
  {
   "cell_type": "code",
   "execution_count": 25,
   "metadata": {},
   "outputs": [
    {
     "name": "stderr",
     "output_type": "stream",
     "text": [
      "C:\\Users\\j.tracy\\AppData\\Local\\Continuum\\miniconda3\\envs\\ff\\lib\\site-packages\\sqlalchemy\\orm\\session.py:551: SAWarning: Session's state has been changed on a non-active transaction - this state will be discarded.\n",
      "  \"Session's state has been changed on \"\n"
     ]
    }
   ],
   "source": [
    "session.rollback()"
   ]
  },
  {
   "cell_type": "code",
   "execution_count": 53,
   "metadata": {},
   "outputs": [
    {
     "name": "stdout",
     "output_type": "stream",
     "text": [
      "['__class__', '__delattr__', '__dict__', '__dir__', '__doc__', '__eq__', '__format__', '__ge__', '__getattribute__', '__gt__', '__hash__', '__init__', '__init_subclass__', '__le__', '__lt__', '__mapper__', '__module__', '__ne__', '__new__', '__reduce__', '__reduce_ex__', '__repr__', '__setattr__', '__sizeof__', '__str__', '__subclasshook__', '__table__', '__table_args__', '__tablename__', '__weakref__', '_decl_class_registry', '_sa_class_manager', '_sa_instance_state', 'active', 'age', 'birth_city', 'birth_country', 'birth_date', 'birth_state', 'college', 'depth_chart_order', 'depth_chart_position', 'espn_id', 'fantasy_data_id', 'first_name', 'gsis_id', 'hashtag', 'height', 'high_school', 'id', 'injury_body_part', 'injury_notes', 'injury_start_date', 'injury_status', 'last_name', 'metadata', 'news_updated', 'number', 'player_id', 'position', 'practice_description', 'practice_participation', 'rotowire_id', 'rotoworld_id', 'search_first_name', 'search_full_name', 'search_last_name', 'search_rank', 'sport', 'sportradar_id', 'stats_id', 'status', 'team_id', 'weight', 'yahoo_id', 'years_exp']\n",
      "76\n"
     ]
    }
   ],
   "source": [
    "player = Player()\n",
    "print(dir(player))\n",
    "print(len(dir(player)))"
   ]
  },
  {
   "cell_type": "code",
   "execution_count": 30,
   "metadata": {},
   "outputs": [
    {
     "name": "stdout",
     "output_type": "stream",
     "text": [
      "failed\n"
     ]
    },
    {
     "ename": "ValueError",
     "evalue": "could not convert string to float: 'A'",
     "output_type": "error",
     "traceback": [
      "\u001b[1;31m---------------------------------------------------------------------------\u001b[0m",
      "\u001b[1;31mValueError\u001b[0m                                Traceback (most recent call last)",
      "\u001b[1;32m<ipython-input-30-52a587cf89f6>\u001b[0m in \u001b[0;36m<module>\u001b[1;34m\u001b[0m\n\u001b[0;32m      6\u001b[0m \u001b[1;32mexcept\u001b[0m\u001b[1;33m:\u001b[0m\u001b[1;33m\u001b[0m\u001b[1;33m\u001b[0m\u001b[0m\n\u001b[0;32m      7\u001b[0m     \u001b[0mprint\u001b[0m\u001b[1;33m(\u001b[0m\u001b[1;34m\"failed\"\u001b[0m\u001b[1;33m)\u001b[0m\u001b[1;33m\u001b[0m\u001b[1;33m\u001b[0m\u001b[0m\n\u001b[1;32m----> 8\u001b[1;33m \u001b[0mprint\u001b[0m\u001b[1;33m(\u001b[0m\u001b[0mfloat\u001b[0m\u001b[1;33m(\u001b[0m\u001b[0mletter\u001b[0m\u001b[1;33m)\u001b[0m\u001b[1;33m)\u001b[0m\u001b[1;33m\u001b[0m\u001b[1;33m\u001b[0m\u001b[0m\n\u001b[0m",
      "\u001b[1;31mValueError\u001b[0m: could not convert string to float: 'A'"
     ]
    }
   ],
   "source": [
    "## \n",
    "letter = \"A\"\n",
    "number = \"1\"\n",
    "try:\n",
    "    print(float(letter))\n",
    "except ValueError:\n",
    "    print(\"failed\")    \n",
    "print(float(letter))"
   ]
  },
  {
   "cell_type": "code",
   "execution_count": 40,
   "metadata": {},
   "outputs": [
    {
     "name": "stdout",
     "output_type": "stream",
     "text": [
      "{'search_first_name': 'patrick', 'number': 15, 'years_exp': 2, 'rotoworld_id': 12142, 'news_updated': 1549152918894, 'search_rank': 18, 'birth_state': None, 'injury_status': None, 'height': '6\\'2\"', 'team': 'KC', 'yahoo_id': 30123, 'high_school': None, 'fantasy_positions': ['QB'], 'search_last_name': 'mahomes', 'sport': 'nfl', 'age': 23, 'first_name': 'Patrick', 'depth_chart_order': 1, 'espn_id': 3139477, 'birth_date': '1995-09-17', 'search_full_name': 'patrickmahomes', 'depth_chart_position': 'QB', 'injury_notes': None, 'gsis_id': '00-0033873', 'player_id': '4046', 'injury_body_part': None, 'practice_participation': None, 'stats_id': 839031, 'position': 'QB', 'practice_description': None, 'active': True, 'birth_country': None, 'rotowire_id': 11839, 'fantasy_data_id': 18890, 'last_name': 'Mahomes', 'birth_city': None, 'sportradar_id': '11cad59d-90dd-449c-a839-dddaba4fe16c', 'injury_start_date': None, 'hashtag': '#PatrickMahomes-NFL-KC-15', 'status': 'Active', 'college': 'Texas Tech', 'weight': '225'}\n"
     ]
    }
   ],
   "source": [
    "singlePlayer = data['4046']\n",
    "print(singlePlayer)\n",
    "# print(singlePlayer[])\n",
    "# player = Player(singlePlayer)\n",
    "# print(player.college)"
   ]
  },
  {
   "cell_type": "code",
   "execution_count": 54,
   "metadata": {},
   "outputs": [
    {
     "name": "stdout",
     "output_type": "stream",
     "text": [
      "{'sportradar_id': '', 'first_name': 'Rick', 'height': '', 'team': None, 'search_first_name': 'rick', 'news_updated': None, 'injury_start_date': None, 'last_name': 'Spielman', 'birth_date': None, 'injury_status': None, 'depth_chart_order': None, 'injury_notes': None, 'practice_participation': None, 'birth_city': None, 'search_full_name': 'rickspielman', 'fantasy_data_id': 21095, 'number': 0, 'years_exp': 99, 'sport': 'nfl', 'age': None, 'search_last_name': 'spielman', 'injury_body_part': None, 'depth_chart_position': None, 'rotowire_id': None, 'position': None, 'gsis_id': None, 'rotoworld_id': 9513, 'active': True, 'yahoo_id': None, 'hashtag': '#RickSpielman-NFL-FA-0', 'stats_id': None, 'practice_description': None, 'birth_state': None, 'high_school': None, 'fantasy_positions': None, 'espn_id': None, 'player_id': '6194', 'college': None, 'weight': '', 'search_rank': 9999999, 'status': 'Inactive', 'birth_country': None}\n"
     ]
    }
   ],
   "source": [
    "## insert into the player database\n",
    "import requests\n",
    "\n",
    "players_url = \"https://api.sleeper.app/v1/players/nfl\"\n",
    "r = requests.get(url = players_url) \n",
    "data = r.json()\n",
    "print(data['6194'])"
   ]
  },
  {
   "cell_type": "code",
   "execution_count": 51,
   "metadata": {},
   "outputs": [
    {
     "name": "stdout",
     "output_type": "stream",
     "text": [
      "{'wind_speed': 4.0, 'tm_st_snp': 24.0, 'tm_off_snp': 56.0, 'tm_def_snp': 82.0, 'temperature': 74.0, 'rush_ypa': 4.2, 'rush_yd': 21.0, 'rush_lng': 8.0, 'rush_fd': 2.0, 'rush_att': 5.0, 'pts_std': 28.34, 'pts_ppr': 28.34, 'pts_half_ppr': 28.3, 'pass_ypc': 17.1, 'pass_ypa': 9.5, 'pass_yd': 256.0, 'pass_td_40p': 1.0, 'pass_td': 4.0, 'pass_sack': 1.0, 'pass_rtg': 127.47, 'pass_lng': 58.0, 'pass_inc': 12.0, 'pass_fd': 6.0, 'pass_cmp_40p': 1.0, 'pass_cmp': 15.0, 'pass_att': 27.0, 'off_snp': 56.0, 'humidity': 66.0, 'gs': 1.0, 'gp': 1.0, 'gms_active': 1.0, 'cmp_pct': 55.6}\n"
     ]
    }
   ],
   "source": [
    "import requests\n",
    "\n",
    "stats_url = \"https://api.sleeper.app/v1/stats/nfl/regular/2018/1\"\n",
    "r = requests.get(url = stats_url)\n",
    "stats_data = r.json()\n",
    "print(data['4046'])"
   ]
  },
  {
   "cell_type": "code",
   "execution_count": 56,
   "metadata": {},
   "outputs": [
    {
     "ename": "KeyError",
     "evalue": "'2103'",
     "output_type": "error",
     "traceback": [
      "\u001b[1;31m---------------------------------------------------------------------------\u001b[0m",
      "\u001b[1;31mKeyError\u001b[0m                                  Traceback (most recent call last)",
      "\u001b[1;32m<ipython-input-56-6c50cc0b2d3d>\u001b[0m in \u001b[0;36m<module>\u001b[1;34m\u001b[0m\n\u001b[0;32m      1\u001b[0m \u001b[1;31m## stats for quarterbacks\u001b[0m\u001b[1;33m\u001b[0m\u001b[1;33m\u001b[0m\u001b[1;33m\u001b[0m\u001b[0m\n\u001b[0;32m      2\u001b[0m \u001b[1;32mfor\u001b[0m \u001b[0mplayer\u001b[0m \u001b[1;32min\u001b[0m \u001b[0mplayers\u001b[0m\u001b[1;33m:\u001b[0m\u001b[1;33m\u001b[0m\u001b[1;33m\u001b[0m\u001b[0m\n\u001b[1;32m----> 3\u001b[1;33m     \u001b[0mqb\u001b[0m \u001b[1;33m=\u001b[0m \u001b[0mQuarterback\u001b[0m\u001b[1;33m(\u001b[0m\u001b[0mstats_data\u001b[0m\u001b[1;33m[\u001b[0m\u001b[0mstr\u001b[0m\u001b[1;33m(\u001b[0m\u001b[0mplayer\u001b[0m\u001b[1;33m.\u001b[0m\u001b[0mplayer_id\u001b[0m\u001b[1;33m)\u001b[0m\u001b[1;33m]\u001b[0m\u001b[1;33m)\u001b[0m\u001b[1;33m\u001b[0m\u001b[1;33m\u001b[0m\u001b[0m\n\u001b[0m\u001b[0;32m      4\u001b[0m     \u001b[0mqb\u001b[0m\u001b[1;33m.\u001b[0m\u001b[0mplayer_id\u001b[0m \u001b[1;33m=\u001b[0m \u001b[0mplayer\u001b[0m\u001b[1;33m.\u001b[0m\u001b[0mplayer_id\u001b[0m\u001b[1;33m\u001b[0m\u001b[1;33m\u001b[0m\u001b[0m\n\u001b[0;32m      5\u001b[0m     \u001b[0msession\u001b[0m\u001b[1;33m.\u001b[0m\u001b[0madd\u001b[0m\u001b[1;33m(\u001b[0m\u001b[0mqb\u001b[0m\u001b[1;33m)\u001b[0m\u001b[1;33m\u001b[0m\u001b[1;33m\u001b[0m\u001b[0m\n",
      "\u001b[1;31mKeyError\u001b[0m: '2103'"
     ]
    }
   ],
   "source": [
    "## stats for quarterbacks\n",
    "for player in players:\n",
    "    if player.position\n",
    "    qb = Quarterback(stats_data[str(player.player_id)])\n",
    "    qb.player_id = player.player_id\n",
    "    session.add(qb)"
   ]
  },
  {
   "cell_type": "code",
   "execution_count": 55,
   "metadata": {},
   "outputs": [],
   "source": []
  },
  {
   "cell_type": "code",
   "execution_count": null,
   "metadata": {},
   "outputs": [],
   "source": []
  },
  {
   "cell_type": "code",
   "execution_count": null,
   "metadata": {},
   "outputs": [],
   "source": []
  },
  {
   "cell_type": "code",
   "execution_count": null,
   "metadata": {},
   "outputs": [],
   "source": []
  },
  {
   "cell_type": "code",
   "execution_count": null,
   "metadata": {},
   "outputs": [],
   "source": []
  },
  {
   "cell_type": "code",
   "execution_count": null,
   "metadata": {},
   "outputs": [],
   "source": []
  },
  {
   "cell_type": "code",
   "execution_count": null,
   "metadata": {},
   "outputs": [],
   "source": []
  },
  {
   "cell_type": "code",
   "execution_count": 51,
   "metadata": {},
   "outputs": [],
   "source": [
    "statsURL = \"https://api.sleeper.app/v1/stats/nfl/regular/2018/7\"\n",
    "\n",
    "r = requests.get(url = statsURL) \n",
    "  \n",
    "data = r.json()"
   ]
  },
  {
   "cell_type": "code",
   "execution_count": null,
   "metadata": {},
   "outputs": [],
   "source": []
  },
  {
   "cell_type": "code",
   "execution_count": null,
   "metadata": {},
   "outputs": [],
   "source": []
  },
  {
   "cell_type": "code",
   "execution_count": null,
   "metadata": {},
   "outputs": [],
   "source": []
  },
  {
   "cell_type": "code",
   "execution_count": null,
   "metadata": {},
   "outputs": [],
   "source": []
  },
  {
   "cell_type": "code",
   "execution_count": null,
   "metadata": {},
   "outputs": [],
   "source": []
  }
 ],
 "metadata": {
  "kernelspec": {
   "display_name": "Python 3",
   "language": "python",
   "name": "python3"
  },
  "language_info": {
   "codemirror_mode": {
    "name": "ipython",
    "version": 3
   },
   "file_extension": ".py",
   "mimetype": "text/x-python",
   "name": "python",
   "nbconvert_exporter": "python",
   "pygments_lexer": "ipython3",
   "version": "3.7.2"
  }
 },
 "nbformat": 4,
 "nbformat_minor": 2
}
