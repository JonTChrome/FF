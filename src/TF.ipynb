{
 "cells": [
  {
   "cell_type": "code",
   "execution_count": 1,
   "metadata": {},
   "outputs": [],
   "source": [
    "import tensorflow as tf\n",
    "from tensorflow import keras\n",
    "from tensorflow.keras import layers\n",
    "import numpy as np\n",
    "import pandas as pd\n",
    "from sklearn.preprocessing import StandardScaler\n",
    "import matplotlib.pyplot as plt\n",
    "import statistics\n"
   ]
  },
  {
   "cell_type": "code",
   "execution_count": 2,
   "metadata": {},
   "outputs": [],
   "source": [
    "##startup\n",
    "## Connect to the Database\n",
    "from sqlalchemy import Column, Integer, String, Date, ForeignKey, Boolean, Float\n",
    "import sqlalchemy as db\n",
    "from sqlalchemy.ext.declarative import declarative_base\n",
    "from sqlalchemy.orm import relation, sessionmaker\n",
    "from sqlalchemy.orm import sessionmaker\n",
    "import sys\n",
    "sys.path.append('..\\\\')\n",
    "from DB.Schema import Team, Player, Injury, Quarterback, WideReceiver, RunningBack, TightEnd, Kicker, Defense\n",
    "\n",
    "engine = db.create_engine('sqlite:///..\\\\DB\\\\ff.db')\n",
    "connection = engine.connect()\n",
    "Base = declarative_base()\n",
    "\n",
    "Session = sessionmaker(bind=engine, autoflush=False)\n",
    "Session.configure(bind=engine, autoflush=False)\n",
    "session = Session()"
   ]
  },
  {
   "cell_type": "code",
   "execution_count": 3,
   "metadata": {},
   "outputs": [],
   "source": [
    "QB_COLUMN_WHITELIST = ['pts_half_ppr', 'pass_lng', 'off_snp', 'gs', 'cmp_pct', 'pass_fd', 'pass_sack', 'tm_off_snp', 'wind_speed', 'gms_active',\n",
    "                      'pass_cmp', 'pts_half_ppr', 'pass_rtg', 'pass_sack_yds', 'tm_def_snp', 'rush_ypa', 'temperature', 'pass_att', \n",
    "                       'pass_inc', 'pass_ypa', 'rush_att', 'pass_td', 'rush_lng', 'tm_st_snp', 'rush_yd', 'pass_yd', 'rush_td', 'fum_lost',\n",
    "                       'humidity', 'fum', 'pass_ypc']\n",
    "QB_COLUMN_WHITELIST.sort()"
   ]
  },
  {
   "cell_type": "code",
   "execution_count": null,
   "metadata": {},
   "outputs": [],
   "source": []
  },
  {
   "cell_type": "code",
   "execution_count": 4,
   "metadata": {},
   "outputs": [],
   "source": [
    "## 3 dimensional features matrix \n",
    "# qbs = session.query(Quarterback)\n",
    "# qb_id = set()\n",
    "# seasons = ['2017', '2018']\n",
    "# seasons_available = 2\n",
    "# games_per_season = 16\n",
    "# feature_columns = len(QB_COLUMN_WHITELIST)\n",
    "\n",
    "# for qb in qbs:\n",
    "#     qb_id.add(qb.player_id)\n",
    "    \n",
    "# shape = (len(qb_id), (seasons_available * games_per_season), (feature_columns))\n",
    "\n",
    "# features = np.zeros(shape)\n",
    "\n",
    "# dependent_index = 0\n",
    "# index = 0\n",
    "# for i in qb_id:\n",
    "#     qb_stats = session.query(Quarterback).filter(Quarterback.player_id == i).order_by(Quarterback.season, Quarterback.week)\n",
    "#     week = 0\n",
    "#     for stat in qb_stats:\n",
    "#         vals = np.zeros(feature_columns)\n",
    "#         feature_index = 1\n",
    "#         for column in dir(stat):\n",
    "#             if column in QB_COLUMN_WHITELIST:\n",
    "#                 var = getattr(stat, column)\n",
    "#                 if var is not None:\n",
    "#                     if column == 'pts_half_ppr':\n",
    "#                         vals[dependent_index] = var\n",
    "#                     else:\n",
    "#                         vals[feature_index] = var\n",
    "#                         feature_index += 1\n",
    "#                 else:\n",
    "#                     feature_index += 1\n",
    "#         features[index][week] = vals\n",
    "#         week += 1\n",
    "#     index += 1"
   ]
  },
  {
   "cell_type": "code",
   "execution_count": 4,
   "metadata": {},
   "outputs": [],
   "source": [
    "## 2 dimensional features matrix\n",
    "# get rid of people that didnt play\n",
    "qb_stats = session.query(Quarterback).filter(Quarterback.pass_att != 0).order_by(Quarterback.season, Quarterback.week).all()\n",
    "seasons = ['2017', '2018']\n",
    "seasons_available = 2\n",
    "games_per_season = 16\n",
    "feature_columns = len(QB_COLUMN_WHITELIST)\n",
    "    \n",
    "shape = ((len(qb_stats)), (feature_columns))\n",
    "\n",
    "features = np.zeros(shape)\n",
    "\n",
    "dependent_index = 0\n",
    "week = 0\n",
    "for stat in qb_stats:\n",
    "    vals = np.zeros(feature_columns)\n",
    "    feature_index = 1\n",
    "    for column in dir(stat):\n",
    "        if column in QB_COLUMN_WHITELIST:\n",
    "            var = getattr(stat, column)\n",
    "            if var is not None:\n",
    "                if column == 'pts_half_ppr':\n",
    "                    vals[dependent_index] = var\n",
    "                else:\n",
    "                    vals[feature_index] = var\n",
    "                    feature_index += 1\n",
    "            else:\n",
    "                feature_index += 1\n",
    "    features[week] = vals\n",
    "    week += 1\n"
   ]
  },
  {
   "cell_type": "code",
   "execution_count": 6,
   "metadata": {},
   "outputs": [
    {
     "name": "stdout",
     "output_type": "stream",
     "text": [
      "cmp_pct :  55.6\n",
      "fum :  None\n",
      "fum_lost :  None\n",
      "gms_active :  1.0\n",
      "gs :  1.0\n",
      "humidity :  66.0\n",
      "off_snp :  56.0\n",
      "pass_att :  27.0\n",
      "pass_cmp :  15.0\n",
      "pass_fd :  6.0\n",
      "pass_inc :  12.0\n",
      "pass_lng :  58.0\n",
      "pass_rtg :  127.47\n",
      "pass_sack :  1.0\n",
      "pass_sack_yds :  None\n",
      "pass_td :  4.0\n",
      "pass_yd :  256.0\n",
      "pass_ypa :  9.5\n",
      "pass_ypc :  17.1\n",
      "pts_half_ppr :  28.3\n",
      "rush_att :  5.0\n",
      "rush_lng :  8.0\n",
      "rush_td :  None\n",
      "rush_yd :  21.0\n",
      "rush_ypa :  4.2\n",
      "temperature :  74.0\n",
      "tm_def_snp :  82.0\n",
      "tm_off_snp :  56.0\n",
      "tm_st_snp :  24.0\n",
      "wind_speed :  4.0\n"
     ]
    }
   ],
   "source": [
    "pat_mahomes = session.query(Quarterback).filter(Quarterback.player_id == '4046', Quarterback.season == '2018', Quarterback.week == 1).first()\n",
    "for column in dir(pat_mahomes):\n",
    "    if column in QB_COLUMN_WHITELIST:\n",
    "        print(column, \": \", getattr(pat_mahomes, column))"
   ]
  },
  {
   "cell_type": "code",
   "execution_count": 5,
   "metadata": {},
   "outputs": [
    {
     "name": "stdout",
     "output_type": "stream",
     "text": [
      "(1148, 31)\n"
     ]
    }
   ],
   "source": [
    "print(features.shape)\n",
    "sample_factor = 0.8\n",
    "\n",
    "#separate data into training and testing data\n",
    "features = pd.DataFrame(features)\n",
    "train_dataset = features.sample(frac=sample_factor, random_state=0)\n",
    "test_dataset = features.drop(train_dataset.index)"
   ]
  },
  {
   "cell_type": "code",
   "execution_count": 6,
   "metadata": {},
   "outputs": [],
   "source": [
    "#separate features and labels\n",
    "train_features = pd.DataFrame(train_dataset.to_numpy()[:, 1:])\n",
    "train_labels = pd.DataFrame(train_dataset.to_numpy()[:, 0])\n",
    "\n",
    "test_features = pd.DataFrame(test_dataset.to_numpy()[:, 1:])\n",
    "test_labels = pd.DataFrame(test_dataset.to_numpy()[:, 0])"
   ]
  },
  {
   "cell_type": "code",
   "execution_count": 7,
   "metadata": {},
   "outputs": [],
   "source": [
    "#Normalize data\n",
    "scaler = StandardScaler().fit(train_features)\n",
    "scaled_train_features = scaler.transform(train_features)\n",
    "scaled_test_features = scaler.transform(test_features)\n"
   ]
  },
  {
   "cell_type": "code",
   "execution_count": 8,
   "metadata": {},
   "outputs": [],
   "source": [
    "#very simple model\n",
    "def build_model():\n",
    "  model = keras.Sequential([\n",
    "    layers.Dense(64, activation=tf.nn.relu, input_shape=[len(train_features.keys())]),\n",
    "    layers.Dense(64, activation=tf.nn.relu),\n",
    "    layers.Dense(1)\n",
    "  ])\n",
    "\n",
    "  optimizer = tf.keras.optimizers.RMSprop(0.001)\n",
    "\n",
    "  model.compile(loss='mean_squared_error',\n",
    "                optimizer=optimizer,\n",
    "                metrics=['mean_absolute_error', 'mean_squared_error'])\n",
    "  return model"
   ]
  },
  {
   "cell_type": "code",
   "execution_count": 9,
   "metadata": {},
   "outputs": [
    {
     "name": "stdout",
     "output_type": "stream",
     "text": [
      "WARNING:tensorflow:From C:\\Users\\j.tracy\\AppData\\Local\\Continuum\\miniconda3\\envs\\ff\\lib\\site-packages\\tensorflow\\python\\ops\\resource_variable_ops.py:435: colocate_with (from tensorflow.python.framework.ops) is deprecated and will be removed in a future version.\n",
      "Instructions for updating:\n",
      "Colocations handled automatically by placer.\n",
      "WARNING:tensorflow:From C:\\Users\\j.tracy\\AppData\\Local\\Continuum\\miniconda3\\envs\\ff\\lib\\site-packages\\tensorflow\\python\\keras\\utils\\losses_utils.py:170: to_float (from tensorflow.python.ops.math_ops) is deprecated and will be removed in a future version.\n",
      "Instructions for updating:\n",
      "Use tf.cast instead.\n",
      "_________________________________________________________________\n",
      "Layer (type)                 Output Shape              Param #   \n",
      "=================================================================\n",
      "dense (Dense)                (None, 64)                1984      \n",
      "_________________________________________________________________\n",
      "dense_1 (Dense)              (None, 64)                4160      \n",
      "_________________________________________________________________\n",
      "dense_2 (Dense)              (None, 1)                 65        \n",
      "=================================================================\n",
      "Total params: 6,209\n",
      "Trainable params: 6,209\n",
      "Non-trainable params: 0\n",
      "_________________________________________________________________\n"
     ]
    }
   ],
   "source": [
    "model = build_model()\n",
    "model.summary()"
   ]
  },
  {
   "cell_type": "code",
   "execution_count": 10,
   "metadata": {},
   "outputs": [
    {
     "name": "stdout",
     "output_type": "stream",
     "text": [
      "[[ 0.46748772]\n",
      " [-0.00144832]\n",
      " [-0.04870343]\n",
      " [ 0.58611953]\n",
      " [-0.2836972 ]\n",
      " [ 0.24552931]\n",
      " [ 0.7711885 ]\n",
      " [ 1.0288838 ]\n",
      " [ 0.5059494 ]\n",
      " [ 0.02337301]]\n"
     ]
    }
   ],
   "source": [
    "example_batch = scaled_train_features[:10]\n",
    "result = model.predict(example_batch)\n",
    "print(result)"
   ]
  },
  {
   "cell_type": "code",
   "execution_count": 11,
   "metadata": {},
   "outputs": [
    {
     "name": "stdout",
     "output_type": "stream",
     "text": [
      "WARNING:tensorflow:From C:\\Users\\j.tracy\\AppData\\Local\\Continuum\\miniconda3\\envs\\ff\\lib\\site-packages\\tensorflow\\python\\ops\\math_ops.py:3066: to_int32 (from tensorflow.python.ops.math_ops) is deprecated and will be removed in a future version.\n",
      "Instructions for updating:\n",
      "Use tf.cast instead.\n",
      "\n",
      "....................................................................................................\n",
      "....................................................................................................\n",
      "....................................................................................................\n",
      "....................................................................................................\n",
      "....................................................................................................\n",
      "....................................................................................................\n",
      "....................................................................................................\n",
      "....................................................................................................\n",
      "....................................................................................................\n",
      "...................................................................................................."
     ]
    }
   ],
   "source": [
    "# Display training progress by printing a single dot for each completed epoch\n",
    "class PrintDot(keras.callbacks.Callback):\n",
    "  def on_epoch_end(self, epoch, logs):\n",
    "    if epoch % 100 == 0: print('')\n",
    "    print('.', end='')\n",
    "\n",
    "EPOCHS = 1000\n",
    "\n",
    "history = model.fit(\n",
    "  scaled_train_features, train_labels,\n",
    "  epochs=EPOCHS, validation_split = 0.2, verbose=0,\n",
    "  callbacks=[PrintDot()])"
   ]
  },
  {
   "cell_type": "code",
   "execution_count": 12,
   "metadata": {},
   "outputs": [
    {
     "data": {
      "image/png": "[encoded data removed]",
      "text/plain": [
       "<Figure size 432x288 with 1 Axes>"
      ]
     },
     "metadata": {
      "needs_background": "light"
     },
     "output_type": "display_data"
    },
    {
     "data": {
      "image/png": "[encoded data removed]",
      "text/plain": [
       "<Figure size 432x288 with 1 Axes>"
      ]
     },
     "metadata": {
      "needs_background": "light"
     },
     "output_type": "display_data"
    }
   ],
   "source": [
    "hist = pd.DataFrame(history.history)\n",
    "hist['epoch'] = history.epoch\n",
    "hist.tail()\n",
    "\n",
    "def plot_history(history):\n",
    "  hist = pd.DataFrame(history.history)\n",
    "  hist['epoch'] = history.epoch\n",
    "  \n",
    "  plt.figure()\n",
    "  plt.xlabel('Epoch')\n",
    "  plt.ylabel('Mean Abs Error [PTS]')\n",
    "  plt.plot(hist['epoch'], hist['mean_absolute_error'],\n",
    "           label='Train Error')\n",
    "  plt.plot(hist['epoch'], hist['val_mean_absolute_error'],\n",
    "           label = 'Val Error')\n",
    "  plt.ylim([0,5])\n",
    "  plt.legend()\n",
    "  \n",
    "  plt.figure()\n",
    "  plt.xlabel('Epoch')\n",
    "  plt.ylabel('Mean Square Error [$PTS^2$]')\n",
    "  plt.plot(hist['epoch'], hist['mean_squared_error'],\n",
    "           label='Train Error')\n",
    "  plt.plot(hist['epoch'], hist['val_mean_squared_error'],\n",
    "           label = 'Val Error')\n",
    "  plt.ylim([0,20])\n",
    "  plt.legend()\n",
    "  plt.show()\n",
    "\n",
    "\n",
    "plot_history(history)"
   ]
  },
  {
   "cell_type": "code",
   "execution_count": null,
   "metadata": {},
   "outputs": [],
   "source": []
  }
 ],
 "metadata": {
  "kernelspec": {
   "display_name": "Python 3",
   "language": "python",
   "name": "python3"
  },
  "language_info": {
   "codemirror_mode": {
    "name": "ipython",
    "version": 3
   },
   "file_extension": ".py",
   "mimetype": "text/x-python",
   "name": "python",
   "nbconvert_exporter": "python",
   "pygments_lexer": "ipython3",
   "version": "3.7.2"
  }
 },
 "nbformat": 4,
 "nbformat_minor": 2
}
